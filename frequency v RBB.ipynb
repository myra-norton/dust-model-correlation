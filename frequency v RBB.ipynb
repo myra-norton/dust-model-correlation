{
 "cells": [
  {
   "cell_type": "code",
   "execution_count": 1,
   "id": "920af7f5",
   "metadata": {},
   "outputs": [],
   "source": [
    "#import statements\n",
    "import numpy as np\n",
    "import healpy as hp\n",
    "import matplotlib.pyplot as plt\n",
    "import pysm3\n",
    "import pysm3.units as u\n",
    "import warnings\n",
    "warnings.filterwarnings(\"ignore\")"
   ]
  },
  {
   "cell_type": "code",
   "execution_count": 2,
   "id": "e3d91858",
   "metadata": {},
   "outputs": [],
   "source": [
    "#function that takes in frequency and makes a map\n",
    "def make_map(freq):\n",
    "    return sky.get_emission(freq * u.GHz) "
   ]
  },
  {
   "cell_type": "code",
   "execution_count": 3,
   "id": "f4befede",
   "metadata": {},
   "outputs": [],
   "source": [
    "#function that takes ina  map and outputs rbb80 value\n",
    "def rbb80(map2):\n",
    "    clbb1x2 = hp.anafast(map_150GHz, map2)[2][80]\n",
    "    clbb1x1 = hp.anafast(map_150GHz)[2][80]\n",
    "    clbb2x2 = hp.anafast(map2)[2][80]\n",
    "    return clbb1x2/(np.sqrt(clbb1x1*clbb2x2))"
   ]
  },
  {
   "cell_type": "code",
   "execution_count": 7,
   "id": "42c397e6",
   "metadata": {},
   "outputs": [],
   "source": [
    "#function that takes in an array of (1-rBB[80]) values with the corresponding model number and plots\n",
    "#a log log graph against frequency\n",
    "def loglog_rbb(rbb_vals, i):\n",
    "    plt.plot(freqs, rbb_vals, label= 'd'+str(i)) \n",
    "    plt.xscale('log')\n",
    "    plt.xlabel(\"frequency\")\n",
    "    plt.yscale('log')\n",
    "    plt.ylabel(\"1 - rBB[80]\")\n",
    "    plt.legend()\n",
    "    plt.title(\"rBB as a function of frequency (log-log plot)\")"
   ]
  },
  {
   "cell_type": "code",
   "execution_count": 8,
   "id": "ef61fa33",
   "metadata": {},
   "outputs": [
    {
     "data": {
      "image/png": "[encoded data removed]",
      "text/plain": [
       "<Figure size 432x288 with 1 Axes>"
      ]
     },
     "metadata": {
      "needs_background": "light"
     },
     "output_type": "display_data"
    }
   ],
   "source": [
    "freqs = np.arange(150,3000,150)\n",
    "rbb80_vals = np.zeros_like(freqs)\n",
    "#for all of the models\n",
    "for i in range(9):\n",
    "    #make a sky\n",
    "    sky = pysm3.Sky(nside=128, preset_strings=[\"d\"+str(i)])\n",
    "    #make 150GHz map\n",
    "    map_150GHz = sky.get_emission(150 * u.GHz)\n",
    "    #compute RlBB[80] for every 50GHz from 150GHz to 3THz\n",
    "    for j, freq in enumerate(freqs):\n",
    "        rbb80_vals[j] = (1 - rbb80(make_map(freq)))\n",
    "    loglog_rbb(rbb80_vals, i)"
   ]
  },
  {
   "cell_type": "code",
   "execution_count": null,
   "id": "68ebebd3",
   "metadata": {},
   "outputs": [],
   "source": []
  }
 ],
 "metadata": {
  "kernelspec": {
   "display_name": "Python 3",
   "language": "python",
   "name": "python3"
  },
  "language_info": {
   "codemirror_mode": {
    "name": "ipython",
    "version": 3
   },
   "file_extension": ".py",
   "mimetype": "text/x-python",
   "name": "python",
   "nbconvert_exporter": "python",
   "pygments_lexer": "ipython3",
   "version": "3.8.10"
  }
 },
 "nbformat": 4,
 "nbformat_minor": 5
}
